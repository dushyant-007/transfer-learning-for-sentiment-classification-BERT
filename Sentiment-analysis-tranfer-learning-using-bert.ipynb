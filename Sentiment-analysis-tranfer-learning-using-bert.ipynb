{
 "cells": [
  {
   "cell_type": "markdown",
   "source": [
    "Necessary Imports"
   ],
   "metadata": {
    "collapsed": false
   }
  },
  {
   "cell_type": "code",
   "execution_count": 23,
   "metadata": {
    "collapsed": true,
    "ExecuteTime": {
     "end_time": "2023-05-26T20:47:30.524619Z",
     "start_time": "2023-05-26T20:47:30.520216500Z"
    }
   },
   "outputs": [],
   "source": [
    "import matplotlib.pyplot as plt\n",
    "import pandas as pd\n",
    "import torch\n",
    "import torch.nn as nn\n",
    "import numpy as np\n"
   ]
  },
  {
   "cell_type": "markdown",
   "source": [
    "Getting data from data/sentiment_train.csv"
   ],
   "metadata": {
    "collapsed": false
   }
  },
  {
   "cell_type": "code",
   "execution_count": 6,
   "outputs": [
    {
     "name": "stdout",
     "output_type": "stream",
     "text": [
      "<class 'pandas.core.frame.DataFrame'>\n",
      "RangeIndex: 5668 entries, 0 to 5667\n",
      "Data columns (total 2 columns):\n",
      " #   Column    Non-Null Count  Dtype \n",
      "---  ------    --------------  ----- \n",
      " 0   sentence  5668 non-null   object\n",
      " 1   label     5668 non-null   int64 \n",
      "dtypes: int64(1), object(1)\n",
      "memory usage: 88.7+ KB\n",
      "None\n",
      "                                            sentence  label\n",
      "0    Ok brokeback mountain is such a horrible movie.      0\n",
      "1                 Brokeback Mountain was so awesome.      1\n",
      "2  friday hung out with kelsie and we went and sa...      0\n",
      "3  I am going to start reading the Harry Potter s...      1\n",
      "4       Is it just me, or does Harry Potter suck?...      0\n"
     ]
    }
   ],
   "source": [
    "data = pd.read_csv('data/sentiment_train.csv')\n",
    "print(data.info())\n",
    "print(data.head())"
   ],
   "metadata": {
    "collapsed": false,
    "ExecuteTime": {
     "end_time": "2023-05-26T19:59:23.380691900Z",
     "start_time": "2023-05-26T19:59:23.330508200Z"
    }
   }
  },
  {
   "cell_type": "markdown",
   "source": [
    "Above is how the data looks\n",
    "\n",
    "Now let us work on it a little bit\n",
    "\n",
    "1. Make train - test splits."
   ],
   "metadata": {
    "collapsed": false
   }
  },
  {
   "cell_type": "code",
   "execution_count": 9,
   "outputs": [
    {
     "name": "stdout",
     "output_type": "stream",
     "text": [
      "shape of x_train is (3627,)\n",
      "shape of x_test is (1134,)\n",
      "shape of x_val is (907,)\n",
      "shape of y_train is (3627,)\n",
      "shape of y_test is (1134,)\n",
      "shape of y_validation is (907,)\n"
     ]
    }
   ],
   "source": [
    "from sklearn.model_selection import train_test_split\n",
    "\n",
    "x_tr , x_te , y_tr, y_te = train_test_split(data['sentence'].values,\n",
    "                                            data['label'].values,\n",
    "                                            train_size=0.8,\n",
    "                                            random_state=1)\n",
    "\n",
    "x_tr, x_va, y_tr, y_va = train_test_split(x_tr,\n",
    "                                          y_tr,\n",
    "                                          train_size=0.8,\n",
    "                                          random_state=1)\n",
    "\n",
    "print(f'shape of x_train is {x_tr.shape}')\n",
    "print(f'shape of x_test is {x_te.shape}')\n",
    "print(f'shape of x_val is {x_va.shape}')\n",
    "print(f'shape of y_train is {y_tr.shape}')\n",
    "print(f'shape of y_test is {y_te.shape}')\n",
    "print(f'shape of y_validation is {y_va.shape}')"
   ],
   "metadata": {
    "collapsed": false,
    "ExecuteTime": {
     "end_time": "2023-05-26T20:06:28.172083600Z",
     "start_time": "2023-05-26T20:06:28.124679700Z"
    }
   }
  },
  {
   "cell_type": "code",
   "execution_count": 10,
   "outputs": [
    {
     "ename": "NameError",
     "evalue": "name 'AutoModel' is not defined",
     "output_type": "error",
     "traceback": [
      "\u001B[1;31m---------------------------------------------------------------------------\u001B[0m",
      "\u001B[1;31mNameError\u001B[0m                                 Traceback (most recent call last)",
      "Cell \u001B[1;32mIn[10], line 1\u001B[0m\n\u001B[1;32m----> 1\u001B[0m bert \u001B[38;5;241m=\u001B[39m \u001B[43mAutoModel\u001B[49m\u001B[38;5;241m.\u001B[39mfrom_pretrained(\u001B[38;5;124m'\u001B[39m\u001B[38;5;124mbert-base-uncased\u001B[39m\u001B[38;5;124m'\u001B[39m)\n",
      "\u001B[1;31mNameError\u001B[0m: name 'AutoModel' is not defined"
     ]
    }
   ],
   "source": [
    "bert = AutoModel.from_pretrained('bert-base-uncased')"
   ],
   "metadata": {
    "collapsed": false,
    "ExecuteTime": {
     "end_time": "2023-05-26T20:08:27.246082Z",
     "start_time": "2023-05-26T20:08:26.650149200Z"
    }
   }
  },
  {
   "cell_type": "code",
   "execution_count": 12,
   "outputs": [
    {
     "name": "stderr",
     "output_type": "stream",
     "text": [
      "Downloading (…)lve/main/config.json: 100%|██████████| 570/570 [00:00<00:00, 681kB/s]\n",
      "C:\\Users\\Dushyant S. Udawat\\anaconda3\\lib\\site-packages\\huggingface_hub\\file_download.py:133: UserWarning: `huggingface_hub` cache-system uses symlinks by default to efficiently store duplicated files but your machine does not support them in C:\\Users\\Dushyant S. Udawat\\.cache\\huggingface\\hub. Caching files will still work but in a degraded version that might require more space on your disk. This warning can be disabled by setting the `HF_HUB_DISABLE_SYMLINKS_WARNING` environment variable. For more details, see https://huggingface.co/docs/huggingface_hub/how-to-cache#limitations.\n",
      "To support symlinks on Windows, you either need to activate Developer Mode or to run Python as an administrator. In order to see activate developer mode, see this article: https://docs.microsoft.com/en-us/windows/apps/get-started/enable-your-device-for-development\n",
      "  warnings.warn(message)\n",
      "Downloading pytorch_model.bin: 100%|██████████| 440M/440M [00:08<00:00, 49.4MB/s] \n",
      "Some weights of the model checkpoint at bert-base-uncased were not used when initializing BertModel: ['cls.predictions.transform.LayerNorm.bias', 'cls.predictions.transform.LayerNorm.weight', 'cls.seq_relationship.weight', 'cls.seq_relationship.bias', 'cls.predictions.transform.dense.weight', 'cls.predictions.bias', 'cls.predictions.transform.dense.bias', 'cls.predictions.decoder.weight']\n",
      "- This IS expected if you are initializing BertModel from the checkpoint of a model trained on another task or with another architecture (e.g. initializing a BertForSequenceClassification model from a BertForPreTraining model).\n",
      "- This IS NOT expected if you are initializing BertModel from the checkpoint of a model that you expect to be exactly identical (initializing a BertForSequenceClassification model from a BertForSequenceClassification model).\n",
      "Downloading (…)okenizer_config.json: 100%|██████████| 28.0/28.0 [00:00<00:00, 11.9kB/s]\n",
      "Downloading (…)solve/main/vocab.txt: 100%|██████████| 232k/232k [00:00<00:00, 4.62MB/s]\n",
      "Downloading (…)/main/tokenizer.json: 100%|██████████| 466k/466k [00:00<00:00, 6.95MB/s]\n"
     ]
    }
   ],
   "source": [
    "from transformers import AutoModel\n",
    "bert = AutoModel.from_pretrained('bert-base-uncased')\n",
    "from transformers import BertTokenizerFast\n",
    "tokenizer = BertTokenizerFast.from_pretrained('bert-base-uncased')"
   ],
   "metadata": {
    "collapsed": false,
    "ExecuteTime": {
     "end_time": "2023-05-26T20:40:14.578827700Z",
     "start_time": "2023-05-26T20:40:00.636516600Z"
    }
   }
  },
  {
   "cell_type": "markdown",
   "source": [
    "Let's see , what should be the padding length. I want to take the median"
   ],
   "metadata": {
    "collapsed": false
   }
  },
  {
   "cell_type": "code",
   "execution_count": 15,
   "outputs": [
    {
     "data": {
      "text/plain": "(array([1340.,  700.,  583.,  443.,  188.,  168.,   99.,   22.,   80.,\n           4.]),\n array([ 3. ,  6.7, 10.4, 14.1, 17.8, 21.5, 25.2, 28.9, 32.6, 36.3, 40. ]),\n <BarContainer object of 10 artists>)"
     },
     "execution_count": 15,
     "metadata": {},
     "output_type": "execute_result"
    },
    {
     "data": {
      "text/plain": "<Figure size 640x480 with 1 Axes>",
      "image/png": "[encoded data removed]"
     },
     "metadata": {},
     "output_type": "display_data"
    }
   ],
   "source": [
    "len_of_sentences_in_train_data = [len(i.split()) for i in x_tr]\n",
    "plt.hist(len_of_sentences_in_train_data)"
   ],
   "metadata": {
    "collapsed": false,
    "ExecuteTime": {
     "end_time": "2023-05-26T20:42:32.459457200Z",
     "start_time": "2023-05-26T20:42:31.590998Z"
    }
   }
  },
  {
   "cell_type": "markdown",
   "source": [
    "From looking at the histogram , I think we should take 15 to be the padding."
   ],
   "metadata": {
    "collapsed": false
   }
  },
  {
   "cell_type": "markdown",
   "source": [
    "Alright, Now let's tokenize the data."
   ],
   "metadata": {
    "collapsed": false
   }
  },
  {
   "cell_type": "code",
   "execution_count": 34,
   "outputs": [
    {
     "name": "stderr",
     "output_type": "stream",
     "text": [
      "C:\\Users\\Dushyant S. Udawat\\anaconda3\\lib\\site-packages\\transformers\\tokenization_utils_base.py:2304: FutureWarning: The `pad_to_max_length` argument is deprecated and will be removed in a future version, use `padding=True` or `padding='longest'` to pad to the longest sequence in the batch, or use `padding='max_length'` to pad to a max length. In this case, you can give a specific length with `max_length` (e.g. `max_length=45`) or leave max_length to None to pad to the maximal input size of the model (e.g. 512 for Bert).\n",
      "  warnings.warn(\n"
     ]
    }
   ],
   "source": [
    "pad_len = 15\n",
    "\n",
    "x_tr_token = tokenizer.batch_encode_plus(\n",
    "    x_tr.tolist(),\n",
    "    max_length= pad_len,\n",
    "    pad_to_max_length = True,\n",
    "    truncation=True\n",
    ")\n",
    "\n",
    "x_va_token = tokenizer.batch_encode_plus(\n",
    "    x_va.tolist(),\n",
    "    max_length=pad_len,\n",
    "    pad_to_max_length = True,\n",
    "    truncation= True\n",
    ")\n",
    "\n",
    "x_te_token = tokenizer.batch_encode_plus(\n",
    "    x_te.tolist(),\n",
    "    max_length=pad_len,\n",
    "    pad_to_max_length = True,\n",
    "    truncation=True\n",
    ")\n",
    "\n",
    "x_tr_seq = torch.tensor(x_tr_token['input_ids'])\n",
    "x_va_seq = torch.tensor(x_va_token['input_ids'])\n",
    "x_va_seq = torch.tensor(x_va_token['input_ids'])"
   ],
   "metadata": {
    "collapsed": false,
    "ExecuteTime": {
     "end_time": "2023-05-26T20:58:46.030515700Z",
     "start_time": "2023-05-26T20:58:45.905417400Z"
    }
   }
  },
  {
   "cell_type": "code",
   "execution_count": 35,
   "outputs": [],
   "source": [],
   "metadata": {
    "collapsed": false,
    "ExecuteTime": {
     "end_time": "2023-05-26T20:58:58.153322500Z",
     "start_time": "2023-05-26T20:58:58.132707300Z"
    }
   }
  },
  {
   "cell_type": "code",
   "execution_count": 41,
   "outputs": [
    {
     "name": "stdout",
     "output_type": "stream",
     "text": [
      "tensor([[  101,  1045,  2066,  ...,  1055,  2006,   102],\n",
      "        [  101,  1045,  2293,  ...,     0,     0,     0],\n",
      "        [  101,  1045,  5223,  ...,  3791,  1037,   102],\n",
      "        ...,\n",
      "        [  101,  4302, 10693,  ...,  2758, 11543,   102],\n",
      "        [  101,  2029,  2003,  ...,  2480,  1045,   102],\n",
      "        [  101,  4830, 23765,  ...,     0,     0,     0]])\n",
      "the shape of the x_tr_seq is torch.Size([3627, 15])\n"
     ]
    }
   ],
   "source": [
    "print(x_tr_seq)\n",
    "print(f'the shape of the x_tr_seq is {x_tr_seq.shape}')"
   ],
   "metadata": {
    "collapsed": false,
    "ExecuteTime": {
     "end_time": "2023-05-26T21:00:10.512563100Z",
     "start_time": "2023-05-26T21:00:10.491359Z"
    }
   }
  },
  {
   "cell_type": "code",
   "execution_count": 31,
   "outputs": [
    {
     "name": "stdout",
     "output_type": "stream",
     "text": [
      "[\"I like Mission Impossible movies because you never know who's on the right side.\"\n",
      " 'I love Harry Potter..'\n",
      " 'I hate Harry Potter, that daniel wotshisface needs a fucking slap...']\n",
      "tensor([[  101,  1045,  2066,  3260,  5263,  5691,  2138,  2017,  2196,  2113,\n",
      "          2040,  1005,  1055,  2006,   102],\n",
      "        [  101,  1045,  2293,  4302, 10693,  1012,  1012,   102,     0,     0,\n",
      "             0,     0,     0,     0,     0],\n",
      "        [  101,  1045,  5223,  4302, 10693,  1010,  2008,  3817, 24185,  3215,\n",
      "         24158, 12172,  3791,  1037,   102]])\n"
     ]
    }
   ],
   "source": [
    "print(x_tr[:3])\n",
    "\n",
    "print(train_seq[:3])"
   ],
   "metadata": {
    "collapsed": false,
    "ExecuteTime": {
     "end_time": "2023-05-26T20:50:40.417236900Z",
     "start_time": "2023-05-26T20:50:40.400384100Z"
    }
   }
  },
  {
   "cell_type": "markdown",
   "source": [
    "So, as can be seen the tokenizer just makes the sentence into dictionary indexes. It is nothing special , there is not machine learning here. However, we should remember that the dictionary indexes here are related to their corresponding embeddigns in the trained bert model."
   ],
   "metadata": {
    "collapsed": false
   }
  },
  {
   "cell_type": "markdown",
   "source": [
    "# Defining the model"
   ],
   "metadata": {
    "collapsed": false
   }
  },
  {
   "cell_type": "code",
   "execution_count": null,
   "outputs": [],
   "source": [
    "for param in bert.parameters():\n",
    "    param.requires_grad = False\n",
    "\n",
    "class BERT_arch(nn.Module):\n",
    "    def __init__(self, bert):\n",
    "        super(BERT_arch, self).__init__()\n",
    "        self.bert = bert\n",
    "\n",
    "        # adding a dropout layer\n",
    "        self.dropout = nn.Dropout(0.2)\n",
    "\n",
    "        # relu\n",
    "        self.relu = nn.ReLU()\n",
    "\n",
    "        # dense layer 1\n",
    "        self.fc1 = nn.Linear(768, 512)\n",
    "\n",
    "        # dense layer 2\n",
    "        self. fc2 = nn.Linear(512, 2)\n",
    "\n",
    "        # softmax activaton\n",
    "        self.softmax = nn.LogSoftmax(dim =1 )\n",
    "\n",
    "    def forward(self, sent_id, mask):\n",
    "        _, cls_hs = self.bert(sent_id, attention_mask = mask, return_dict = False)\n",
    "\n",
    "        x = self.fc1(cls_hs)\n",
    "\n",
    "        x = self.relu(x)\n",
    "\n",
    "        x = self.dropout(x)\n",
    "\n",
    "        x = self.fc2(x)\n",
    "\n",
    "        x = self.softmax(x)\n",
    "\n",
    "        return x\n",
    "\n",
    "\n"
   ],
   "metadata": {
    "collapsed": false,
    "is_executing": true
   }
  },
  {
   "cell_type": "code",
   "execution_count": null,
   "outputs": [],
   "source": [
    "model = BERT_arch(bert)\n",
    "optimizer = torch.optim.AdamW(model.parameters(),lr = 1e-5)  # learning rate\n"
   ],
   "metadata": {
    "collapsed": false,
    "is_executing": true
   }
  },
  {
   "cell_type": "code",
   "execution_count": null,
   "outputs": [],
   "source": [],
   "metadata": {
    "collapsed": false
   }
  }
 ],
 "metadata": {
  "kernelspec": {
   "display_name": "Python 3",
   "language": "python",
   "name": "python3"
  },
  "language_info": {
   "codemirror_mode": {
    "name": "ipython",
    "version": 2
   },
   "file_extension": ".py",
   "mimetype": "text/x-python",
   "name": "python",
   "nbconvert_exporter": "python",
   "pygments_lexer": "ipython2",
   "version": "2.7.6"
  }
 },
 "nbformat": 4,
 "nbformat_minor": 0
}
